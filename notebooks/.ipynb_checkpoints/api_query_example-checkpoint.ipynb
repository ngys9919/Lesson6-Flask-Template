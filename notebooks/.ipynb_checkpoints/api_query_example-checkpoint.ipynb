{
 "cells": [
  {
   "cell_type": "code",
   "execution_count": 1,
   "metadata": {},
   "outputs": [],
   "source": [
    "import requests\n",
    "\n",
    "website = 'http://localhost:5000'"
   ]
  },
  {
   "attachments": {},
   "cell_type": "markdown",
   "metadata": {},
   "source": [
    "# 1 Make prediction via HTTP POST API"
   ]
  },
  {
   "cell_type": "code",
   "execution_count": 2,
   "metadata": {},
   "outputs": [
    {
     "name": "stdout",
     "output_type": "stream",
     "text": [
      "<Response [200]>\n",
      "{\n",
      "  \"prediction\": 17353.51581464062\n",
      "}\n",
      "\n"
     ]
    }
   ],
   "source": [
    "\n",
    "url = f'{website}/api/predict'\n",
    "model_inputs = {\n",
    "    \"age\": 30,\n",
    "    \"sex\": \"female\",\n",
    "    \"bmi\": 20,\n",
    "    \"children\": 1,\n",
    "    \"smoker\": \"yes\",\n",
    "    \"region\": \"southwest\"\n",
    "}\n",
    "\n",
    "response = requests.post(url, json = model_inputs)\n",
    "print(response)  # 200: OK/Success, 400: Bad Request, 500: Internal Server Error\n",
    "print(response.text)\n"
   ]
  }
 ],
 "metadata": {
  "kernelspec": {
   "display_name": "venv",
   "language": "python",
   "name": "python3"
  },
  "language_info": {
   "codemirror_mode": {
    "name": "ipython",
    "version": 3
   },
   "file_extension": ".py",
   "mimetype": "text/x-python",
   "name": "python",
   "nbconvert_exporter": "python",
   "pygments_lexer": "ipython3",
   "version": "3.8.3"
  },
  "orig_nbformat": 4
 },
 "nbformat": 4,
 "nbformat_minor": 2
}
